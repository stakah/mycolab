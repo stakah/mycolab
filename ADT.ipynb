{
  "cells": [
    {
      "cell_type": "markdown",
      "metadata": {
        "id": "view-in-github",
        "colab_type": "text"
      },
      "source": [
        "<a href=\"https://colab.research.google.com/github/stakah/mycolab/blob/main/ADT.ipynb\" target=\"_parent\"><img src=\"https://colab.research.google.com/assets/colab-badge.svg\" alt=\"Open In Colab\"/></a>"
      ]
    },
    {
      "cell_type": "markdown",
      "metadata": {
        "id": "KiP5m5ax0yzq"
      },
      "source": [
        "# Abstract Data Types"
      ]
    },
    {
      "cell_type": "markdown",
      "metadata": {
        "id": "34JUdtIN023J"
      },
      "source": [
        "## Vector"
      ]
    },
    {
      "cell_type": "code",
      "execution_count": null,
      "metadata": {
        "colab": {
          "base_uri": "https://localhost:8080/"
        },
        "id": "bL87k4yb0oqV",
        "outputId": "fe864816-786f-4fee-b0f6-504754431f82"
      },
      "outputs": [
        {
          "name": "stdout",
          "output_type": "stream",
          "text": [
            "[22, 33, 44, 55]\n",
            "<class 'list'>\n"
          ]
        }
      ],
      "source": [
        "# Using a List\n",
        "vector_1 = [22, 33, 44, 55]\n",
        "print(vector_1)\n",
        "print(type(vector_1))"
      ]
    },
    {
      "cell_type": "code",
      "execution_count": null,
      "metadata": {
        "colab": {
          "base_uri": "https://localhost:8080/"
        },
        "id": "gPH_T4Lf1JZ3",
        "outputId": "0f0ffba2-7ae0-4b45-d572-051c48ca2e22"
      },
      "outputs": [
        {
          "name": "stdout",
          "output_type": "stream",
          "text": [
            "[22 33 44 55]\n",
            "<class 'numpy.ndarray'>\n"
          ]
        }
      ],
      "source": [
        "# Using a numpy array\n",
        "import numpy as np\n",
        "vector_2 = np.array([22, 33, 44, 55])\n",
        "print(vector_2)\n",
        "print(type(vector_2))"
      ]
    },
    {
      "cell_type": "markdown",
      "metadata": {
        "id": "YzzR169A3jjJ"
      },
      "source": [
        "### Time Complexity\n",
        "\n",
        "| Action    | Implementation | Complexity        |\n",
        "|-----------|----------------|-------------------|\n",
        "| Access    | List           | O(1)              |\n",
        "|           | mumpy array    | O(1)              |\n",
        "| Appending | List           | O(1)              |\n",
        "|           | numpy array    | O(n) (worst case) |\n",
        "| Searching | List           | O(n) (worst case) |\n",
        "|           | numpy array    | O(n) (worst case) |"
      ]
    },
    {
      "cell_type": "markdown",
      "metadata": {
        "id": "c75jLiPX4lC7"
      },
      "source": [
        "## Stacks\n",
        "\n",
        "* Linear data structure to store a one-dimensional list\n",
        "* Last-In, First-Out (LIFO)\n",
        "* Operations:\n",
        "  - **isEmpty**: Returns true if the stack is empty\n",
        "  - **push**: Adds a new element\n",
        "  - **pop**: Returns and removes the most recently added element"
      ]
    },
    {
      "cell_type": "code",
      "execution_count": 15,
      "metadata": {
        "id": "qRgfgr0T6GKJ"
      },
      "outputs": [],
      "source": [
        "class Stack:\n",
        "  def __init__(self):\n",
        "    self.items = []\n",
        "  def isEmpty(self):\n",
        "    return self.items == []\n",
        "  def push(self, item):\n",
        "    self.items.append(item)\n",
        "  def pop(self):\n",
        "    return self.items.pop()\n",
        "  def peek(self):\n",
        "    return self.items[len(self.items)-1]\n",
        "  def size(self):\n",
        "    return len(self.items)\n",
        "  def __str__(self):\n",
        "    return \"Stack\" + str(self.items)"
      ]
    },
    {
      "cell_type": "code",
      "execution_count": 16,
      "metadata": {
        "colab": {
          "base_uri": "https://localhost:8080/"
        },
        "id": "hgmJ8_j-7t8Z",
        "outputId": "0cf68856-38e3-4edc-f69d-a03885467804"
      },
      "outputs": [
        {
          "output_type": "stream",
          "name": "stdout",
          "text": [
            "Stack['Red', 'Green', 'Blue', 'Yellow']\n"
          ]
        }
      ],
      "source": [
        "# Populate the stack\n",
        "stack = Stack()\n",
        "stack.push(\"Red\")\n",
        "stack.push(\"Green\")\n",
        "stack.push(\"Blue\")\n",
        "stack.push(\"Yellow\")\n",
        "\n",
        "print(stack)\n"
      ]
    },
    {
      "cell_type": "markdown",
      "source": [
        "### Time Complexity\n",
        "\n",
        "| Action | Complexity |\n",
        "|--------|------------|\n",
        "| Push   | O(1)       |\n",
        "| Pop    | O(1)       |"
      ],
      "metadata": {
        "id": "qAnQQlTjAN_L"
      }
    },
    {
      "cell_type": "markdown",
      "source": [
        "## Queues\n",
        "\n",
        "* Stores elements in a single-dimensional structure\n",
        "* First-In, First-Out (FIFO)\n",
        "* Operations:\n",
        "  - **dequeue**: Removes and returns the fron element of the queue\n",
        "  - **enqueue**: Adds an element to the rear of the queue"
      ],
      "metadata": {
        "id": "e1RzjK3NAd1P"
      }
    },
    {
      "cell_type": "code",
      "source": [
        "class Queue(object):\n",
        "  def __init__(self):\n",
        "    self.items = []\n",
        "  def isEmpty(self):\n",
        "    return self.items == []\n",
        "  def enqueue(self, item):\n",
        "    self.items.insert(0, item)\n",
        "  def dequeue(self):\n",
        "    return self.items.pop()\n",
        "  def size(self):\n",
        "    return len(self.items)\n",
        "  def __str__(self):\n",
        "    return \"Queue\" + str(self.items)"
      ],
      "metadata": {
        "id": "4s0fKDwABQ7m"
      },
      "execution_count": 17,
      "outputs": []
    },
    {
      "cell_type": "code",
      "source": [
        "# Using queue\n",
        "queue = Queue()\n",
        "queue.enqueue(\"Red\")\n",
        "queue.enqueue(\"Green\")\n",
        "queue.enqueue(\"Blue\")\n",
        "queue.enqueue(\"Yellow\")\n",
        "print(f\"Size of queue is {queue.size()}\")\n",
        "print(queue)\n",
        "print(f'Getting front element \"{queue.dequeue()}\" from the queue')\n",
        "print(f\"Size of queue is {queue.size()}\")\n",
        "print(queue)\n",
        "print(f'Euqueuing \"Purple\" into the queue')\n",
        "queue.enqueue(\"Purple\")\n",
        "print(f\"Size of queue is {queue.size()}\")\n",
        "print(queue)\n"
      ],
      "metadata": {
        "colab": {
          "base_uri": "https://localhost:8080/"
        },
        "id": "gtvamq2eB2I-",
        "outputId": "fb9ed936-4fd6-4f60-aa82-47d5d543b5f5"
      },
      "execution_count": 20,
      "outputs": [
        {
          "output_type": "stream",
          "name": "stdout",
          "text": [
            "Size of queue is 4\n",
            "Queue['Yellow', 'Blue', 'Green', 'Red']\n",
            "Getting front element \"Red\" from the queue\n",
            "Size of queue is 3\n",
            "Queue['Yellow', 'Blue', 'Green']\n",
            "Euqueuing \"Purple\" into the queue\n",
            "Size of queue is 4\n",
            "Queue['Purple', 'Yellow', 'Blue', 'Green']\n"
          ]
        }
      ]
    },
    {
      "cell_type": "markdown",
      "source": [
        "### Time Complexity\n",
        "\n",
        "| Action  | Complexity |\n",
        "|---------|------------|\n",
        "| Enqueue | O(1)       |\n",
        "| Dequeue | O(1)       |"
      ],
      "metadata": {
        "id": "R3co2EgcDfgD"
      }
    },
    {
      "cell_type": "markdown",
      "source": [
        "## Trees\n",
        "\n"
      ],
      "metadata": {
        "id": "tv7Z5XDoDxtM"
      }
    }
  ],
  "metadata": {
    "colab": {
      "provenance": [],
      "authorship_tag": "ABX9TyNI3/1LuQ+xgodMJdQbbrkT",
      "include_colab_link": true
    },
    "kernelspec": {
      "display_name": "Python 3",
      "name": "python3"
    },
    "language_info": {
      "name": "python"
    }
  },
  "nbformat": 4,
  "nbformat_minor": 0
}