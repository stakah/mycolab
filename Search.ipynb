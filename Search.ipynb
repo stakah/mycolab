{
  "nbformat": 4,
  "nbformat_minor": 0,
  "metadata": {
    "colab": {
      "provenance": [],
      "authorship_tag": "ABX9TyO5xMNVaPyneSq8sLnSk9cK",
      "include_colab_link": true
    },
    "kernelspec": {
      "name": "python3",
      "display_name": "Python 3"
    },
    "language_info": {
      "name": "python"
    }
  },
  "cells": [
    {
      "cell_type": "markdown",
      "metadata": {
        "id": "view-in-github",
        "colab_type": "text"
      },
      "source": [
        "<a href=\"https://colab.research.google.com/github/stakah/mycolab/blob/main/Search.ipynb\" target=\"_parent\"><img src=\"https://colab.research.google.com/assets/colab-badge.svg\" alt=\"Open In Colab\"/></a>"
      ]
    },
    {
      "cell_type": "markdown",
      "source": [
        "# Search\n",
        "\n",
        "* Linear Search\n",
        "* Binary Search\n",
        "* Interpolation Search"
      ],
      "metadata": {
        "id": "yqnZTL_O6clY"
      }
    },
    {
      "cell_type": "markdown",
      "source": [
        "## Linear Search\n",
        "* Simple strategy\n",
        "* Iterate through the list to find the element\n",
        "* Time complexity: O(n)"
      ],
      "metadata": {
        "id": "Jk-azvtn6kPq"
      }
    },
    {
      "cell_type": "code",
      "execution_count": 7,
      "metadata": {
        "id": "o06dHVRN6YFC"
      },
      "outputs": [],
      "source": [
        "def linear_search(elements, item):\n",
        "  index = 0\n",
        "  found = False\n",
        "\n",
        "  # Match the value with each data element\n",
        "  while index < len(elements) and found is False:\n",
        "    if elements[index] == item:\n",
        "      found = True\n",
        "    else:\n",
        "      index = index + 1\n",
        "\n",
        "  return found"
      ]
    },
    {
      "cell_type": "code",
      "source": [
        "import time as time\n",
        "list = [12, 33, 11, 99, 21, 55, 91]\n",
        "t1 = time.monotonic_ns()\n",
        "print(f\"There is '12' in the list? {linear_search(list, 12)}\")\n",
        "t2 = time.monotonic_ns() - t1\n",
        "print(f\"linear_search: time {t2} ns\")\n",
        "t1 = time.monotonic_ns()\n",
        "print(f\"There is '90' in the list? {linear_search(list, 90)}\")\n",
        "t2 = time.monotonic_ns() - t1\n",
        "print(f\"linear_search: time {t2} ns\")\n"
      ],
      "metadata": {
        "colab": {
          "base_uri": "https://localhost:8080/"
        },
        "id": "V6Q18Ivp7PWP",
        "outputId": "77819595-39ee-46b0-ded6-55505a6c8a26"
      },
      "execution_count": 8,
      "outputs": [
        {
          "output_type": "stream",
          "name": "stdout",
          "text": [
            "There is '12' in the list? True\n",
            "linear_search: time 1219628 ns\n",
            "There is '90' in the list? False\n",
            "linear_search: time 603501 ns\n"
          ]
        }
      ]
    },
    {
      "cell_type": "markdown",
      "source": [
        "### Time Complexity\n",
        "\n",
        "* worst case: O(n)"
      ],
      "metadata": {
        "id": "6OMVWRB07_zq"
      }
    },
    {
      "cell_type": "markdown",
      "source": [
        "## Binary Search\n",
        "* list must be sorted\n",
        "* divide and conquer method\n"
      ],
      "metadata": {
        "id": "KJpoQUHY8D1P"
      }
    },
    {
      "cell_type": "code",
      "source": [
        "def bubble_sort_op(list):\n",
        "  last_element_index = len(list) - 1\n",
        "  for pass_no in range(last_element_index, 0, -1):\n",
        "    swapped = False\n",
        "    for idx in range(pass_no):\n",
        "      if list[idx] > list[idx+1]:\n",
        "        list[idx], list[idx+1] = list[idx+1], list[idx]\n",
        "        swapped = True\n",
        "    if swapped == False:\n",
        "      break\n",
        "\n",
        "  return list"
      ],
      "metadata": {
        "id": "2GepKkXo9olB"
      },
      "execution_count": 9,
      "outputs": []
    },
    {
      "cell_type": "code",
      "source": [
        "def binary_search(elements, item):\n",
        "  first = 0\n",
        "  last = len(elements) - 1\n",
        "\n",
        "  while first<=last:\n",
        "    midpoint = (first + last) // 2\n",
        "    if elements[midpoint]==item:\n",
        "      return True\n",
        "    else:\n",
        "      if item<elements[midpoint]:\n",
        "        last = midpoint - 1\n",
        "      else:\n",
        "        first = midpoint + 1\n",
        "\n",
        "  return False"
      ],
      "metadata": {
        "id": "bht-N7IV9vkM"
      },
      "execution_count": 10,
      "outputs": []
    },
    {
      "cell_type": "code",
      "source": [
        "list = [12, 33, 11, 99, 22, 55, 90]\n",
        "\n",
        "t1 = time.monotonic()\n",
        "sorted_list = bubble_sort_op(list)\n",
        "print(binary_search(list, 12))\n",
        "t2 = (time.monotonic() - t1) * 1e9\n",
        "print(f\"binary_search: time {t2} ns\")\n",
        "\n",
        "list = [12, 33, 11, 99, 22, 55, 90]\n",
        "t1 = time.monotonic()\n",
        "sorted_list = bubble_sort_op(list)\n",
        "print(binary_search(list, 91))\n",
        "t2 = (time.monotonic() - t1) * 1e9\n",
        "print(f\"binary_search: time {t2} ns\")\n"
      ],
      "metadata": {
        "colab": {
          "base_uri": "https://localhost:8080/"
        },
        "id": "x79DURdu-FH6",
        "outputId": "3a941c15-8bcb-43b2-f1f0-16c1bd2f7e4d"
      },
      "execution_count": 14,
      "outputs": [
        {
          "output_type": "stream",
          "name": "stdout",
          "text": [
            "True\n",
            "binary_search: time 2119040.000025052 ns\n",
            "False\n",
            "binary_search: time 726026.9999278535 ns\n"
          ]
        }
      ]
    },
    {
      "cell_type": "markdown",
      "source": [
        "### Time Complexity\n",
        "\n",
        "* worst case: O(logN)"
      ],
      "metadata": {
        "id": "MPHOYZwn-55i"
      }
    },
    {
      "cell_type": "markdown",
      "source": [
        "## Interpolation Search\n",
        "\n",
        "* list must be sorted\n",
        "* elements in the list must be all different from each other\n"
      ],
      "metadata": {
        "id": "-jpSpJwCIXFD"
      }
    },
    {
      "cell_type": "code",
      "source": [
        "def int_polsearch(list, x):\n",
        "  idx0 = 0\n",
        "  idxn = len(list) - 1\n",
        "\n",
        "  while idx0<=idxn and x>=list[idx0] and x <= list[idxn]:\n",
        "    # Find the midpoint\n",
        "    mid = idx0 + int( float(idxn - idx0) * float(x - list[idx0]) / float(list[idxn] - list[idx0]))\n",
        "\n",
        "    # Compare the value at midpoint with search value\n",
        "    if list[mid] == x:\n",
        "      return True\n",
        "    if list[mid] < x:\n",
        "      idx0 = mid + 1\n",
        "\n",
        "  return False"
      ],
      "metadata": {
        "id": "CF6NAiX5JpND"
      },
      "execution_count": 15,
      "outputs": []
    },
    {
      "cell_type": "code",
      "source": [
        "list = [12, 33, 11, 99, 22, 55, 90]\n",
        "t1 = time.monotonic()\n",
        "sorted_list = bubble_sort_op(list)\n",
        "print(int_polsearch(list, 12))\n",
        "t2 = (time.monotonic() - t1) * 1e9\n",
        "print(f\"int_polsearch: time {t2} ns\")"
      ],
      "metadata": {
        "colab": {
          "base_uri": "https://localhost:8080/"
        },
        "id": "GPQQTvnCKWC5",
        "outputId": "41cbd820-6753-4488-f4a9-613d73cf498e"
      },
      "execution_count": 16,
      "outputs": [
        {
          "output_type": "stream",
          "name": "stdout",
          "text": [
            "True\n",
            "int_polsearch: time 1220846.9997858629 ns\n"
          ]
        }
      ]
    },
    {
      "cell_type": "code",
      "source": [
        "list = [12, 33, 11, 99, 22, 55, 90]\n",
        "t1 = time.monotonic()\n",
        "sorted_list = bubble_sort_op(list)\n",
        "print(int_polsearch(list, 91))\n",
        "t2 = (time.monotonic() - t1) * 1e9\n",
        "print(f\"int_polsearch: time {t2} ns\")"
      ],
      "metadata": {
        "colab": {
          "base_uri": "https://localhost:8080/"
        },
        "id": "YkmlHCpxKq2l",
        "outputId": "f44212a7-ec16-4f78-c21e-2b7cd91ad4fb"
      },
      "execution_count": 17,
      "outputs": [
        {
          "output_type": "stream",
          "name": "stdout",
          "text": [
            "False\n",
            "int_polsearch: time 2430776.000437618 ns\n"
          ]
        }
      ]
    },
    {
      "cell_type": "code",
      "source": [
        "list = [23,23,23]\n",
        "t1 = time.monotonic()\n",
        "sorted_list = bubble_sort_op(list)\n",
        "print(int_polsearch(list, 23))\n",
        "t2 = (time.monotonic() - t1) * 1e9\n",
        "print(f\"int_polsearch: time {t2} ns\")"
      ],
      "metadata": {
        "colab": {
          "base_uri": "https://localhost:8080/",
          "height": 332
        },
        "id": "befd0vKzKvlg",
        "outputId": "ed1643b0-6436-4d81-b905-d9abc0100b7a"
      },
      "execution_count": 35,
      "outputs": [
        {
          "output_type": "error",
          "ename": "ZeroDivisionError",
          "evalue": "float division by zero",
          "traceback": [
            "\u001b[0;31m---------------------------------------------------------------------------\u001b[0m",
            "\u001b[0;31mZeroDivisionError\u001b[0m                         Traceback (most recent call last)",
            "\u001b[0;32m<ipython-input-35-4d04545dfb52>\u001b[0m in \u001b[0;36m<cell line: 4>\u001b[0;34m()\u001b[0m\n\u001b[1;32m      2\u001b[0m \u001b[0mt1\u001b[0m \u001b[0;34m=\u001b[0m \u001b[0mtime\u001b[0m\u001b[0;34m.\u001b[0m\u001b[0mmonotonic\u001b[0m\u001b[0;34m(\u001b[0m\u001b[0;34m)\u001b[0m\u001b[0;34m\u001b[0m\u001b[0;34m\u001b[0m\u001b[0m\n\u001b[1;32m      3\u001b[0m \u001b[0msorted_list\u001b[0m \u001b[0;34m=\u001b[0m \u001b[0mbubble_sort_op\u001b[0m\u001b[0;34m(\u001b[0m\u001b[0mlist\u001b[0m\u001b[0;34m)\u001b[0m\u001b[0;34m\u001b[0m\u001b[0;34m\u001b[0m\u001b[0m\n\u001b[0;32m----> 4\u001b[0;31m \u001b[0mprint\u001b[0m\u001b[0;34m(\u001b[0m\u001b[0mint_polsearch\u001b[0m\u001b[0;34m(\u001b[0m\u001b[0mlist\u001b[0m\u001b[0;34m,\u001b[0m \u001b[0;36m23\u001b[0m\u001b[0;34m)\u001b[0m\u001b[0;34m)\u001b[0m\u001b[0;34m\u001b[0m\u001b[0;34m\u001b[0m\u001b[0m\n\u001b[0m\u001b[1;32m      5\u001b[0m \u001b[0mt2\u001b[0m \u001b[0;34m=\u001b[0m \u001b[0;34m(\u001b[0m\u001b[0mtime\u001b[0m\u001b[0;34m.\u001b[0m\u001b[0mmonotonic\u001b[0m\u001b[0;34m(\u001b[0m\u001b[0;34m)\u001b[0m \u001b[0;34m-\u001b[0m \u001b[0mt1\u001b[0m\u001b[0;34m)\u001b[0m \u001b[0;34m*\u001b[0m \u001b[0;36m1e9\u001b[0m\u001b[0;34m\u001b[0m\u001b[0;34m\u001b[0m\u001b[0m\n\u001b[1;32m      6\u001b[0m \u001b[0mprint\u001b[0m\u001b[0;34m(\u001b[0m\u001b[0;34mf\"int_polsearch: time {t2} ns\"\u001b[0m\u001b[0;34m)\u001b[0m\u001b[0;34m\u001b[0m\u001b[0;34m\u001b[0m\u001b[0m\n",
            "\u001b[0;32m<ipython-input-15-30f59a8c97af>\u001b[0m in \u001b[0;36mint_polsearch\u001b[0;34m(list, x)\u001b[0m\n\u001b[1;32m      5\u001b[0m   \u001b[0;32mwhile\u001b[0m \u001b[0midx0\u001b[0m\u001b[0;34m<=\u001b[0m\u001b[0midxn\u001b[0m \u001b[0;32mand\u001b[0m \u001b[0mx\u001b[0m\u001b[0;34m>=\u001b[0m\u001b[0mlist\u001b[0m\u001b[0;34m[\u001b[0m\u001b[0midx0\u001b[0m\u001b[0;34m]\u001b[0m \u001b[0;32mand\u001b[0m \u001b[0mx\u001b[0m \u001b[0;34m<=\u001b[0m \u001b[0mlist\u001b[0m\u001b[0;34m[\u001b[0m\u001b[0midxn\u001b[0m\u001b[0;34m]\u001b[0m\u001b[0;34m:\u001b[0m\u001b[0;34m\u001b[0m\u001b[0;34m\u001b[0m\u001b[0m\n\u001b[1;32m      6\u001b[0m     \u001b[0;31m# Find the midpoint\u001b[0m\u001b[0;34m\u001b[0m\u001b[0;34m\u001b[0m\u001b[0m\n\u001b[0;32m----> 7\u001b[0;31m     \u001b[0mmid\u001b[0m \u001b[0;34m=\u001b[0m \u001b[0midx0\u001b[0m \u001b[0;34m+\u001b[0m \u001b[0mint\u001b[0m\u001b[0;34m(\u001b[0m \u001b[0mfloat\u001b[0m\u001b[0;34m(\u001b[0m\u001b[0midxn\u001b[0m \u001b[0;34m-\u001b[0m \u001b[0midx0\u001b[0m\u001b[0;34m)\u001b[0m \u001b[0;34m*\u001b[0m \u001b[0mfloat\u001b[0m\u001b[0;34m(\u001b[0m\u001b[0mx\u001b[0m \u001b[0;34m-\u001b[0m \u001b[0mlist\u001b[0m\u001b[0;34m[\u001b[0m\u001b[0midx0\u001b[0m\u001b[0;34m]\u001b[0m\u001b[0;34m)\u001b[0m \u001b[0;34m/\u001b[0m \u001b[0mfloat\u001b[0m\u001b[0;34m(\u001b[0m\u001b[0mlist\u001b[0m\u001b[0;34m[\u001b[0m\u001b[0midxn\u001b[0m\u001b[0;34m]\u001b[0m \u001b[0;34m-\u001b[0m \u001b[0mlist\u001b[0m\u001b[0;34m[\u001b[0m\u001b[0midx0\u001b[0m\u001b[0;34m]\u001b[0m\u001b[0;34m)\u001b[0m\u001b[0;34m)\u001b[0m\u001b[0;34m\u001b[0m\u001b[0;34m\u001b[0m\u001b[0m\n\u001b[0m\u001b[1;32m      8\u001b[0m \u001b[0;34m\u001b[0m\u001b[0m\n\u001b[1;32m      9\u001b[0m     \u001b[0;31m# Compare the value at midpoint with search value\u001b[0m\u001b[0;34m\u001b[0m\u001b[0;34m\u001b[0m\u001b[0m\n",
            "\u001b[0;31mZeroDivisionError\u001b[0m: float division by zero"
          ]
        }
      ]
    },
    {
      "cell_type": "markdown",
      "source": [
        "### Time Complexity\n",
        "\n",
        "* worst case: O(n)\n",
        "* best case: O(log(logN))"
      ],
      "metadata": {
        "id": "OIBa0kE0MXT6"
      }
    }
  ]
}