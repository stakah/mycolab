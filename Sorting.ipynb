{
  "nbformat": 4,
  "nbformat_minor": 0,
  "metadata": {
    "colab": {
      "provenance": [],
      "authorship_tag": "ABX9TyOx4jQDyxQ4B2D9vepM7Qvi",
      "include_colab_link": true
    },
    "kernelspec": {
      "name": "python3",
      "display_name": "Python 3"
    },
    "language_info": {
      "name": "python"
    }
  },
  "cells": [
    {
      "cell_type": "markdown",
      "metadata": {
        "id": "view-in-github",
        "colab_type": "text"
      },
      "source": [
        "<a href=\"https://colab.research.google.com/github/stakah/mycolab/blob/main/Sorting.ipynb\" target=\"_parent\"><img src=\"https://colab.research.google.com/assets/colab-badge.svg\" alt=\"Open In Colab\"/></a>"
      ]
    },
    {
      "cell_type": "markdown",
      "source": [
        "# Sort"
      ],
      "metadata": {
        "id": "TkwDTxOZPEhI"
      }
    },
    {
      "cell_type": "markdown",
      "source": [
        "## Bubble Sort"
      ],
      "metadata": {
        "id": "YPKxkLxxPJVl"
      }
    },
    {
      "cell_type": "code",
      "execution_count": 1,
      "metadata": {
        "colab": {
          "base_uri": "https://localhost:8080/"
        },
        "id": "sfH1UAJsO8bg",
        "outputId": "f6084102-9490-4cb6-e772-3e776c9361eb"
      },
      "outputs": [
        {
          "output_type": "stream",
          "name": "stdout",
          "text": [
            "[21, 22, 23, 24, 25, 27, 28, 30, 31]\n"
          ]
        }
      ],
      "source": [
        "def bubble_sort(list):\n",
        "  # Exchange the elements to arrange in order\n",
        "  last_element_index = len(list) - 1\n",
        "  for pass_no in range(last_element_index, 0, -1):\n",
        "    for idx in range(pass_no):\n",
        "      if list[idx] > list[idx+1]:\n",
        "        list[idx], list[idx+1] = list[idx+1], list[idx]\n",
        "  return list\n",
        "\n",
        "list_1 = [25, 22, 24, 21, 23, 27, 28, 30, 31]\n",
        "bubble_sort(list_1)\n",
        "print(list_1)"
      ]
    },
    {
      "cell_type": "markdown",
      "source": [
        "### Optimized Bubble Sort\n",
        "\n",
        "* Add a flag to break the loop if the element did not swap position\n",
        "meaning that the elements are already sorted"
      ],
      "metadata": {
        "id": "-yxNDX37RG6v"
      }
    },
    {
      "cell_type": "code",
      "source": [
        "import time as time\n",
        "def bubble_sort_op(list):\n",
        "  last_element_index = len(list) - 1\n",
        "  for pass_no in range(last_element_index, 0, -1):\n",
        "    swapped = False\n",
        "    for idx in range(pass_no):\n",
        "      if list[idx] > list[idx+1]:\n",
        "        list[idx], list[idx+1] = list[idx+1], list[idx]\n",
        "        swapped = True\n",
        "    if swapped == False:\n",
        "      break\n",
        "\n",
        "  return list"
      ],
      "metadata": {
        "id": "aa9yUHxpSIDm"
      },
      "execution_count": 3,
      "outputs": []
    },
    {
      "cell_type": "markdown",
      "source": [
        "Runtime for non optimized Bubble Sort"
      ],
      "metadata": {
        "id": "cGQE1HQWUQJ7"
      }
    },
    {
      "cell_type": "code",
      "source": [
        "list_2 = [x for x in range(10000)]\n",
        "t1 = time.monotonic_ns()\n",
        "bubble_sort(list_2)\n",
        "t2 = time.monotonic_ns() - t1\n",
        "print(f\"bubble_sort: time: {t2} ns\")"
      ],
      "metadata": {
        "colab": {
          "base_uri": "https://localhost:8080/"
        },
        "id": "7U_EfaVsUINi",
        "outputId": "3c9ca8b9-ad62-4343-abd4-f6631b6cd17e"
      },
      "execution_count": 17,
      "outputs": [
        {
          "output_type": "stream",
          "name": "stdout",
          "text": [
            "bubble_sort: time: 5656366677 ns\n"
          ]
        }
      ]
    },
    {
      "cell_type": "markdown",
      "source": [
        "Runtime for optimized Bubble Sort"
      ],
      "metadata": {
        "id": "afkAvskjUW4f"
      }
    },
    {
      "cell_type": "code",
      "source": [
        "list_2 = [x for x in range(10000)]\n",
        "t1 = time.monotonic_ns()\n",
        "bubble_sort_op(list_2)\n",
        "t2 = time.monotonic_ns() - t1\n",
        "print(f\"bubble_sort_op: time: {t2} ns\")"
      ],
      "metadata": {
        "colab": {
          "base_uri": "https://localhost:8080/"
        },
        "id": "FSJQsFLwUKwj",
        "outputId": "67b811c9-8664-4965-c2e7-a32f1ceac015"
      },
      "execution_count": 16,
      "outputs": [
        {
          "output_type": "stream",
          "name": "stdout",
          "text": [
            "bubble_sort_op: time: 1593671 ns\n"
          ]
        }
      ]
    },
    {
      "cell_type": "markdown",
      "source": [
        "### Time Complexity\n",
        "\n",
        "* non-optimized Bubble Sort\n",
        "  - O(n<sup>2</sup>)\n",
        "* optimized Bubble Sort\n",
        "  - O(1) (best case: list already sorted)\n",
        "  - O(n<sup>2</sup>) (worst case)"
      ],
      "metadata": {
        "id": "yfOayONjQcQo"
      }
    },
    {
      "cell_type": "markdown",
      "source": [
        "## Insertion Sort\n"
      ],
      "metadata": {
        "id": "V60ptiloVeda"
      }
    },
    {
      "cell_type": "code",
      "source": [
        "def insertion_sort(elements):\n",
        "  for i in range(1, len(elements)):\n",
        "    j = i - 1\n",
        "    next_element = elements[i]\n",
        "\n",
        "    # Iterate backward through the sorted portion,\n",
        "    # Looking for the appropiate position for 'next_element'\n",
        "    while j >= 0 and elements[j] > next_element:\n",
        "      elements[j + 1] = elements[j]\n",
        "      j -= 1\n",
        "\n",
        "    elements[j + 1] = next_element\n",
        "  return elements"
      ],
      "metadata": {
        "id": "MzJLf_uIX88q"
      },
      "execution_count": 18,
      "outputs": []
    },
    {
      "cell_type": "code",
      "source": [
        "list = [25, 21, 22, 23, 25, 24, 27, 26]\n",
        "t1 = time.monotonic_ns()\n",
        "insertion_sort(list)\n",
        "t2 = time.monotonic_ns() - t1\n",
        "print(f\"insertion_sort: time: {t2} ns\")"
      ],
      "metadata": {
        "colab": {
          "base_uri": "https://localhost:8080/"
        },
        "id": "ZDeFRGQxYZKy",
        "outputId": "59bc2b16-ab39-4204-a4e7-5b011b4edf70"
      },
      "execution_count": 19,
      "outputs": [
        {
          "output_type": "stream",
          "name": "stdout",
          "text": [
            "insertion_sort: time: 104921 ns\n"
          ]
        }
      ]
    },
    {
      "cell_type": "code",
      "source": [
        "# best case (ordered list)\n",
        "list_2 = [x for x in range(10000)]\n",
        "t1 = time.monotonic_ns()\n",
        "insertion_sort(list_2)\n",
        "t2 = time.monotonic_ns() - t1\n",
        "print(f\"insertion_sort: time: {t2} ns\")"
      ],
      "metadata": {
        "colab": {
          "base_uri": "https://localhost:8080/"
        },
        "id": "rJmWmvW6YqVD",
        "outputId": "25b3ad3e-b716-4e98-e000-d17deb09e09a"
      },
      "execution_count": 22,
      "outputs": [
        {
          "output_type": "stream",
          "name": "stdout",
          "text": [
            "insertion_sort: time: 3696354 ns\n"
          ]
        }
      ]
    },
    {
      "cell_type": "code",
      "source": [
        "# worst case (reversed list)\n",
        "list_2 = [x for x in range(10000, 0, -1)]\n",
        "t1 = time.monotonic_ns()\n",
        "insertion_sort(list_2)\n",
        "t2 = time.monotonic_ns() - t1\n",
        "print(f\"insertion_sort: time: {t2} ns\")"
      ],
      "metadata": {
        "colab": {
          "base_uri": "https://localhost:8080/"
        },
        "id": "Wu9PZAGbZU9l",
        "outputId": "ea1fb503-e36e-424f-f43e-df69aa8ab7e5"
      },
      "execution_count": 23,
      "outputs": [
        {
          "output_type": "stream",
          "name": "stdout",
          "text": [
            "insertion_sort: time: 9975239966 ns\n"
          ]
        }
      ]
    },
    {
      "cell_type": "markdown",
      "source": [
        "### Time Complexity\n",
        "\n",
        "* Best case (sorted list): O(n)\n",
        "* Worst case (reversed list): O(n<sup>2</sup>)"
      ],
      "metadata": {
        "id": "-akXKaWhcI9w"
      }
    },
    {
      "cell_type": "markdown",
      "source": [
        "## Merge Sort\n"
      ],
      "metadata": {
        "id": "3mHNgfuwcvBN"
      }
    },
    {
      "cell_type": "code",
      "source": [
        "def merge_sort(elements):\n",
        "  # base condition\n",
        "  if len(elements) <= 1:\n",
        "    return elements\n",
        "\n",
        "  mid = len(elements) // 2\n",
        "  left = elements[:mid]\n",
        "  right = elements[mid:]\n",
        "\n",
        "  merge_sort(left) # sort left half\n",
        "  merge_sort(right) # sort right half\n",
        "\n",
        "  a, b, c = 0, 0, 0\n",
        "\n",
        "  # merge the halves\n",
        "  while a < len(left) and b < len(right):\n",
        "    if left[a] < right[b]:\n",
        "      elements[c] = left[a]\n",
        "      a += 1\n",
        "    else:\n",
        "      elements[c] = right[b]\n",
        "      b += 1\n",
        "    c += 1\n",
        "\n",
        "  # copy remaining elements\n",
        "  while a < len(left):\n",
        "    elements[c] = left[a]\n",
        "    a += 1\n",
        "    c += 1\n",
        "  while b < len(right):\n",
        "    elements[c] = right[b]\n",
        "    b += 1\n",
        "    c += 1\n",
        "\n",
        "  return elements"
      ],
      "metadata": {
        "id": "-GK9ImBXe6pf"
      },
      "execution_count": 24,
      "outputs": []
    },
    {
      "cell_type": "code",
      "source": [
        "list = [25, 21, 22, 23, 25, 24, 27, 26]\n",
        "t1 = time.monotonic_ns()\n",
        "merge_sort(list)\n",
        "t2 = time.monotonic_ns() - t1\n",
        "print(list)\n",
        "print(f\"merge_sort: time: {t2} ns\")"
      ],
      "metadata": {
        "colab": {
          "base_uri": "https://localhost:8080/"
        },
        "id": "0UQ36H2Gf68n",
        "outputId": "14ca6a05-0872-4b8a-d516-fef609328968"
      },
      "execution_count": 29,
      "outputs": [
        {
          "output_type": "stream",
          "name": "stdout",
          "text": [
            "[21, 22, 23, 24, 25, 25, 26, 27]\n",
            "merge_sort: time: 136963 ns\n"
          ]
        }
      ]
    },
    {
      "cell_type": "code",
      "source": [
        "# best case (ordered list)\n",
        "list_2 = [x for x in range(10000)]\n",
        "t1 = time.monotonic_ns()\n",
        "merge_sort(list_2)\n",
        "t2 = time.monotonic_ns() - t1\n",
        "print(f\"merge_sort: time: {t2} ns\")"
      ],
      "metadata": {
        "colab": {
          "base_uri": "https://localhost:8080/"
        },
        "id": "dW-xeMChgC9P",
        "outputId": "aa80be43-59b1-44a7-d754-79d02be4f6b3"
      },
      "execution_count": 32,
      "outputs": [
        {
          "output_type": "stream",
          "name": "stdout",
          "text": [
            "merge_sort: time: 74239257 ns\n"
          ]
        }
      ]
    },
    {
      "cell_type": "code",
      "source": [
        "# worst case (reversed list)\n",
        "list_2 = [x for x in range(10000,0, -1)]\n",
        "t1 = time.monotonic_ns()\n",
        "merge_sort(list_2)\n",
        "t2 = time.monotonic_ns() - t1\n",
        "print(f\"merge_sort: time: {t2} ns\")"
      ],
      "metadata": {
        "colab": {
          "base_uri": "https://localhost:8080/"
        },
        "outputId": "ea8b56dc-7f14-4fbd-9251-764662fb0339",
        "id": "fw4LDC08gRR-"
      },
      "execution_count": 28,
      "outputs": [
        {
          "output_type": "stream",
          "name": "stdout",
          "text": [
            "merge_sort: time: 50717113 ns\n"
          ]
        }
      ]
    },
    {
      "cell_type": "markdown",
      "source": [
        "### Time Complexity\n",
        " * O(nlogn)"
      ],
      "metadata": {
        "id": "87WQ2iNFhHX8"
      }
    },
    {
      "cell_type": "markdown",
      "source": [
        "## Shell Sort\n",
        "\n",
        "* Medium size datasets ( <= 60 000 elements)"
      ],
      "metadata": {
        "id": "DJ_aYT1fnSix"
      }
    },
    {
      "cell_type": "code",
      "source": [
        "def shell_sort(elements):\n",
        "  distance = len(elements) // 2\n",
        "  while distance > 0:\n",
        "    for i in range(distance, len(elements)):\n",
        "      temp = elements[i]\n",
        "      j = i\n",
        "\n",
        "      # Sort the sublist for this distance\n",
        "      while j >= distance and elements[j-distance] > temp:\n",
        "        list[j] = elements[j - distance]\n",
        "        j -= distance\n",
        "\n",
        "      list[j] = temp\n",
        "\n",
        "    # Reduce the distance for the next element\n",
        "    distance = distance // 2\n",
        "\n",
        "  return elements\n"
      ],
      "metadata": {
        "id": "kaErGJKxz-Is"
      },
      "execution_count": 33,
      "outputs": []
    },
    {
      "cell_type": "code",
      "source": [
        "list = [25, 21, 22, 23, 25, 24, 27, 26]\n",
        "t1 = time.monotonic_ns()\n",
        "shell_sort(list)\n",
        "t2 = time.monotonic_ns() - t1\n",
        "print(list)\n",
        "print(f\"shell_sort: time: {t2} ns\")"
      ],
      "metadata": {
        "colab": {
          "base_uri": "https://localhost:8080/"
        },
        "id": "V71mBPkc0mvG",
        "outputId": "5662079f-a98a-4421-e11f-16871f90dd1d"
      },
      "execution_count": 34,
      "outputs": [
        {
          "output_type": "stream",
          "name": "stdout",
          "text": [
            "[21, 22, 23, 24, 25, 25, 26, 27]\n",
            "shell_sort: time: 107343 ns\n"
          ]
        }
      ]
    },
    {
      "cell_type": "markdown",
      "source": [
        "### Time Complexity\n",
        "\n",
        "* Best case: O(n)\n",
        "* Worst case : O(n<sup>2</sup>)"
      ],
      "metadata": {
        "id": "esA_FjkA0-iL"
      }
    },
    {
      "cell_type": "markdown",
      "source": [
        "## Selection Sort"
      ],
      "metadata": {
        "id": "mxM3Ugym5EXq"
      }
    },
    {
      "cell_type": "code",
      "source": [
        "def selection_sort(list):\n",
        "  for fill_slot in range(len(list) - 1, 0, -1):\n",
        "    max_index = 0\n",
        "    for location in range(1, fill_slot + 1):\n",
        "      if list[location]>list[max_index]:\n",
        "        max_index = location\n",
        "      list[fill_slot], list[max_index] = list[max_index], list[fill_slot]\n",
        "  return list"
      ],
      "metadata": {
        "id": "thfce3GU5G_D"
      },
      "execution_count": 1,
      "outputs": []
    },
    {
      "cell_type": "code",
      "source": [
        "list = [21, 22, 23, 24, 25, 26,27]\n",
        "t1 = time.monotonic_ns()\n",
        "selection_sort(list)\n",
        "t2 = time.monotonic_ns() - t1\n",
        "print(list)\n",
        "print(f\"selection_sort: time: {t2} ns\")"
      ],
      "metadata": {
        "colab": {
          "base_uri": "https://localhost:8080/"
        },
        "id": "wFIe_CXD5fiB",
        "outputId": "6ddc5e97-2ee4-48fa-9adc-2f688d808e0b"
      },
      "execution_count": 4,
      "outputs": [
        {
          "output_type": "stream",
          "name": "stdout",
          "text": [
            "[21, 22, 23, 24, 25, 26, 27]\n",
            "selection_sort: time: 105399 ns\n"
          ]
        }
      ]
    },
    {
      "cell_type": "markdown",
      "source": [
        "### Time Complexity\n",
        "* worst case: O(n<sup>2</sup>)"
      ],
      "metadata": {
        "id": "6wZ1DOEg50S9"
      }
    }
  ]
}